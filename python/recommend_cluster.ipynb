{
 "cells": [
  {
   "cell_type": "code",
   "execution_count": 1,
   "metadata": {},
   "outputs": [],
   "source": [
    "import pandas as pd\n",
    "from sklearn.model_selection import train_test_split\n",
    "from sklearn.preprocessing import StandardScaler, OneHotEncoder\n",
    "from sklearn.compose import ColumnTransformer\n",
    "from sklearn.pipeline import Pipeline\n",
    "from sklearn.cluster import KMeans\n",
    "from sklearn.ensemble import RandomForestRegressor\n",
    "from sklearn.metrics import mean_squared_error, mean_absolute_error"
   ]
  },
  {
   "cell_type": "code",
   "execution_count": 2,
   "metadata": {},
   "outputs": [],
   "source": [
    "# Load your dataset\n",
    "df = pd.read_csv(r'C:\\Users\\PC\\Desktop\\FaresGradProject\\listings_rating_clean.csv')"
   ]
  },
  {
   "cell_type": "code",
   "execution_count": 9,
   "metadata": {},
   "outputs": [],
   "source": [
    "# Features and target\n",
    "features = ['beds', 'price', 'category', 'livings', 'wc', 'area', 'ketchen', 'furnished', 'city', 'district', 'width', 'length']\n",
    "X = df[features]\n",
    "y = df['user.review']"
   ]
  },
  {
   "cell_type": "code",
   "execution_count": 10,
   "metadata": {},
   "outputs": [],
   "source": [
    "# Preprocessing\n",
    "preprocessor = ColumnTransformer(\n",
    "    transformers=[\n",
    "        ('num', StandardScaler(), ['beds', 'price', 'category', 'livings', 'wc', 'area', 'ketchen', 'furnished', 'width', 'length']),\n",
    "        ('cat', OneHotEncoder(handle_unknown='ignore'), ['city', 'district'])\n",
    "    ])"
   ]
  },
  {
   "cell_type": "code",
   "execution_count": 11,
   "metadata": {},
   "outputs": [],
   "source": [
    "# Create a pipeline for preprocessing\n",
    "pipeline = Pipeline([\n",
    "    ('preprocessor', preprocessor)\n",
    "])"
   ]
  },
  {
   "cell_type": "code",
   "execution_count": 12,
   "metadata": {},
   "outputs": [],
   "source": [
    "# Apply preprocessing to the entire dataset\n",
    "X_processed = pipeline.fit_transform(X)"
   ]
  },
  {
   "cell_type": "code",
   "execution_count": 13,
   "metadata": {},
   "outputs": [],
   "source": [
    "# Clustering\n",
    "n_clusters = 5\n",
    "kmeans = KMeans(n_clusters=n_clusters, random_state=42)\n",
    "df['cluster'] = kmeans.fit_predict(X_processed)  # Fit and predict clusters for the whole dataset"
   ]
  },
  {
   "cell_type": "code",
   "execution_count": 14,
   "metadata": {},
   "outputs": [],
   "source": [
    "# split the data if needed for further modeling or training\n",
    "X_train, X_test, y_train, y_test = train_test_split(df, y, test_size=0.2, random_state=42)"
   ]
  },
  {
   "cell_type": "code",
   "execution_count": 16,
   "metadata": {},
   "outputs": [
    {
     "name": "stdout",
     "output_type": "stream",
     "text": [
      "Cluster 0 - Mean Squared Error: 0.2728734259907686, Mean Absolute Error: 0.3497646237142624\n",
      "Cluster 1 - Mean Squared Error: 0.27228248577873143, Mean Absolute Error: 0.3109835308861272\n",
      "Cluster 2 - Mean Squared Error: 0.25172781627936586, Mean Absolute Error: 0.3445884112218403\n",
      "Cluster 3 - Mean Squared Error: 0.27017136192371755, Mean Absolute Error: 0.28878432034640705\n",
      "Cluster 4 - Mean Squared Error: 0.33087826846184576, Mean Absolute Error: 0.3791248831187151\n"
     ]
    }
   ],
   "source": [
    "# Random Forest for regression within each cluster\n",
    "performance_metrics = {}\n",
    "for cluster in range(n_clusters):\n",
    "    cluster_data = df[df['cluster'] == cluster]\n",
    "    X_cluster = cluster_data.drop(['user.review', 'cluster'], axis=1)\n",
    "    y_cluster = cluster_data['user.review']\n",
    "    \n",
    "    X_train_c, X_test_c, y_train_c, y_test_c = train_test_split(X_cluster, y_cluster, test_size=0.2, random_state=42)\n",
    "    pipeline = Pipeline([\n",
    "        ('preprocessor', preprocessor),\n",
    "        ('regressor', RandomForestRegressor(n_estimators=10, random_state=42))\n",
    "    ])\n",
    "    \n",
    "    pipeline.fit(X_train_c, y_train_c)\n",
    "    y_pred_c = pipeline.predict(X_test_c)\n",
    "    mse_c = mean_squared_error(y_test_c, y_pred_c)\n",
    "    mae_c = mean_absolute_error(y_test_c, y_pred_c)\n",
    "    performance_metrics[cluster] = (mse_c, mae_c)\n",
    "    print(f'Cluster {cluster} - Mean Squared Error: {mse_c}, Mean Absolute Error: {mae_c}')\n"
   ]
  },
  {
   "cell_type": "code",
   "execution_count": 17,
   "metadata": {},
   "outputs": [],
   "source": [
    "# Recommendation function (can be refined based on specific criteria)\n",
    "def recommend_from_cluster(cluster_id, top_n=5):\n",
    "    cluster_data = df[df['cluster'] == cluster_id]\n",
    "    top_recommendations = cluster_data.sort_values(by='user.review', ascending=False).head(top_n)\n",
    "    return top_recommendations"
   ]
  },
  {
   "cell_type": "code",
   "execution_count": 20,
   "metadata": {},
   "outputs": [
    {
     "name": "stdout",
     "output_type": "stream",
     "text": [
      "            id      price  category  beds  livings   wc   area  ketchen  \\\n",
      "0        40278  5500000.0         7   0.0      0.0  0.0  720.0      0.0   \n",
      "63305  4861635  1400000.0         9   5.0      1.0  2.0  447.0      0.0   \n",
      "62592  4857949   720000.0         6   5.0      1.0  4.0  171.0      0.0   \n",
      "62608  4858008   720000.0         6   6.0      1.0  4.0  230.0      0.0   \n",
      "62610  4858012   420000.0         6   3.0      1.0  2.0  110.0      0.0   \n",
      "\n",
      "       furnished  location.lat  location.lng  user.review         city  \\\n",
      "0            0.0     21.408780     39.789310          5.0  مكة المكرمة   \n",
      "63305        0.0     21.557821     39.767807          5.0  مكة المكرمة   \n",
      "62592        0.0     21.552203     39.244640          5.0          جدة   \n",
      "62608        0.0     21.541000     39.288191          5.0          جدة   \n",
      "62610        0.0     21.550089     39.245586          5.0          جدة   \n",
      "\n",
      "       city_id     district  district_id  width  length  cluster  \n",
      "0           94   حي الرصيفة         3714   24.0    30.0        3  \n",
      "63305       94  حي النوارية         3774   26.0    17.0        3  \n",
      "62592       66    حي الواحة         3614   20.0    22.0        3  \n",
      "62608       66      حي مريخ         3646   20.0    22.0        3  \n",
      "62610       66    حي الواحة         3614   20.0    22.0        3  \n"
     ]
    }
   ],
   "source": [
    "# Example: Get top 5 recommendations from cluster 0\n",
    "top_properties = recommend_from_cluster(3, top_n=5)\n",
    "print(top_properties)"
   ]
  },
  {
   "cell_type": "code",
   "execution_count": 24,
   "metadata": {},
   "outputs": [
    {
     "name": "stdout",
     "output_type": "stream",
     "text": [
      "          id       price  category  beds  livings   wc    area  ketchen  \\\n",
      "116  2111194  18000000.0         3   7.0      3.0  5.0  2450.0      1.0   \n",
      "163  2430758    350000.0         3   7.0      3.0  5.0   430.0      1.0   \n",
      "5     131908   1500000.0         9   5.0      3.0  4.0   290.0      1.0   \n",
      "6     188508   1800000.0         3   5.0      1.0  2.0   400.0      1.0   \n",
      "114  2104551   1450000.0         3   5.0      2.0  5.0   312.0      1.0   \n",
      "166  2441613   3700000.0         3   7.0      0.0  5.0   716.0      1.0   \n",
      "0      40278   5500000.0         7   0.0      0.0  0.0   720.0      0.0   \n",
      "29    991955   3000000.0         7   0.0      0.0  0.0   319.0      0.0   \n",
      "153  2367455    400000.0         9   4.0      1.0  3.0   600.0      1.0   \n",
      "355  2915796   5000000.0         3   7.0      5.0  5.0  1000.0      1.0   \n",
      "\n",
      "     furnished  location.lat  location.lng  user.review             city  \\\n",
      "116        0.0     24.753895     46.707722          5.0           الرياض   \n",
      "163        0.0     24.594582     46.139179          5.0        المزاحمية   \n",
      "5          0.0     21.436570     39.844930          5.0      مكة المكرمة   \n",
      "6          0.0     21.391460     39.780470          5.0      مكة المكرمة   \n",
      "114        0.0     24.539344     46.635946          5.0           الرياض   \n",
      "166        0.0     24.452080     39.630779          5.0  المدينة المنورة   \n",
      "0          0.0     21.408780     39.789310          5.0      مكة المكرمة   \n",
      "29         0.0     24.625223     46.716225          5.0           الرياض   \n",
      "153        1.0     17.702763     42.267738          5.0              بيش   \n",
      "355        1.0     24.415337     39.635593          5.0  المدينة المنورة   \n",
      "\n",
      "     city_id      district  district_id  width  length  cluster  \n",
      "116       21     حي النزهة          602   50.0    49.0        0  \n",
      "163       43     حي الغطغط          886    1.0   430.0        0  \n",
      "5         94   حي المعابدة         3764   26.0    11.0        1  \n",
      "6         94  حي الملك فهد         3766   20.0    20.0        1  \n",
      "114       21      حي الحزم          414   13.0    24.0        2  \n",
      "166       41    حي بني ظفر         3040   20.0    35.0        2  \n",
      "0         94    حي الرصيفة         3714   24.0    30.0        3  \n",
      "29        21    حي الوسيطا          628  144.0     2.0        3  \n",
      "153       56        حي بيش          138   30.0    20.0        4  \n",
      "355       41       حي السد         2970   25.0    40.0        4  \n"
     ]
    }
   ],
   "source": [
    "# Evaluate each cluster and select the top 2 properties based on user reviews\n",
    "top_recommendations = pd.DataFrame()\n",
    "for cluster_id in range(n_clusters):\n",
    "    cluster_data = df[df['cluster'] == cluster_id]\n",
    "    top_properties = cluster_data.nlargest(2, 'user.review')\n",
    "    top_recommendations = pd.concat([top_recommendations, top_properties])\n",
    "\n",
    "print(top_recommendations)"
   ]
  }
 ],
 "metadata": {
  "kernelspec": {
   "display_name": "venv",
   "language": "python",
   "name": "python3"
  },
  "language_info": {
   "codemirror_mode": {
    "name": "ipython",
    "version": 3
   },
   "file_extension": ".py",
   "mimetype": "text/x-python",
   "name": "python",
   "nbconvert_exporter": "python",
   "pygments_lexer": "ipython3",
   "version": "3.11.5"
  }
 },
 "nbformat": 4,
 "nbformat_minor": 2
}
