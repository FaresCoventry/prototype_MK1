{
 "cells": [
  {
   "cell_type": "code",
   "execution_count": 8,
   "metadata": {},
   "outputs": [],
   "source": [
    "import pandas as pd\n",
    "from sklearn.model_selection import train_test_split\n",
    "from sklearn.preprocessing import StandardScaler, OneHotEncoder\n",
    "from sklearn.compose import ColumnTransformer\n",
    "from sklearn.pipeline import Pipeline\n",
    "from sklearn.cluster import KMeans\n",
    "from sklearn.ensemble import RandomForestRegressor\n",
    "from sklearn.metrics import mean_squared_error, mean_absolute_error\n",
    "from sklearn.model_selection import GridSearchCV\n",
    "from sklearn.preprocessing import LabelEncoder"
   ]
  },
  {
   "cell_type": "code",
   "execution_count": 11,
   "metadata": {},
   "outputs": [],
   "source": [
    "# Load your dataset\n",
    "df = pd.read_csv(r'C:\\Users\\PC\\Desktop\\FaresGradProject\\listings_rating_clean.csv')\n",
    "# Features and target\n",
    "features = ['beds', 'price', 'category', 'livings', 'wc', 'area', 'ketchen', 'furnished', 'city', 'district', 'width', 'length']\n",
    "X = df[features]\n",
    "y = df['user.review']\n",
    "# Preprocessing\n",
    "preprocessor = ColumnTransformer(\n",
    "    transformers=[\n",
    "        ('num', StandardScaler(), ['beds', 'price', 'category', 'livings', 'wc', 'area', 'ketchen', 'furnished', 'width', 'length']),\n",
    "        ('cat', OneHotEncoder(handle_unknown='ignore'), ['city', 'district'])\n",
    "    ])\n",
    "# Create a pipeline for preprocessing\n",
    "pipeline = Pipeline([\n",
    "    ('preprocessor', preprocessor)\n",
    "])\n",
    "# Apply preprocessing to the entire dataset\n",
    "X_processed = pipeline.fit_transform(X)\n",
    "# Clustering\n",
    "n_clusters = 5\n",
    "kmeans = KMeans(n_clusters=n_clusters, random_state=42)\n",
    "df['cluster'] = kmeans.fit_predict(X_processed)  # Fit and predict clusters for the whole dataset\n",
    "# Now, you can split the data if needed for further modeling or training\n",
    "X_train, X_test, y_train, y_test = train_test_split(df, y, test_size=0.2, random_state=42)"
   ]
  },
  {
   "cell_type": "code",
   "execution_count": 12,
   "metadata": {},
   "outputs": [],
   "source": [
    "for cluster in range(n_clusters):\n",
    "    cluster_data = df[df['cluster'] == cluster]\n",
    "    X_cluster = cluster_data.drop(['user.review', 'cluster'], axis=1)\n",
    "    y_cluster = cluster_data['user.review']\n",
    "    \n",
    "    X_train_c, X_test_c, y_train_c, y_test_c = train_test_split(X_cluster, y_cluster, test_size=0.2, random_state=42)\n",
    "    pipeline = Pipeline([\n",
    "        ('preprocessor', preprocessor),\n",
    "        ('regressor', RandomForestRegressor(n_estimators=10, random_state=42))\n",
    "    ])"
   ]
  },
  {
   "cell_type": "code",
   "execution_count": 15,
   "metadata": {},
   "outputs": [
    {
     "name": "stdout",
     "output_type": "stream",
     "text": [
      "Cluster 0 - Best MSE: -0.23268822185415453, Best Parameters: {'criterion': 'friedman_mse', 'max_depth': 32, 'max_features': 'sqrt', 'n_estimators': 140, 'random_state': 0}\n",
      "Cluster 1 - Best MSE: -0.23342077564376046, Best Parameters: {'criterion': 'friedman_mse', 'max_depth': 32, 'max_features': 'sqrt', 'n_estimators': 160, 'random_state': 0}\n",
      "Cluster 2 - Best MSE: -0.22422126930418, Best Parameters: {'criterion': 'friedman_mse', 'max_depth': 32, 'max_features': 'sqrt', 'n_estimators': 160, 'random_state': 0}\n",
      "Cluster 3 - Best MSE: -0.2353861919699745, Best Parameters: {'criterion': 'friedman_mse', 'max_depth': 32, 'max_features': 'sqrt', 'n_estimators': 160, 'random_state': 0}\n",
      "Cluster 4 - Best MSE: -0.27211600919023116, Best Parameters: {'criterion': 'friedman_mse', 'max_depth': 32, 'max_features': 'sqrt', 'n_estimators': 160, 'random_state': 0}\n",
      "Cluster 0 - Best MSE: -0.23268822185415453, Best Parameters: {'criterion': 'friedman_mse', 'max_depth': 32, 'max_features': 'sqrt', 'n_estimators': 140, 'random_state': 0}\n",
      "Cluster 1 - Best MSE: -0.23342077564376046, Best Parameters: {'criterion': 'friedman_mse', 'max_depth': 32, 'max_features': 'sqrt', 'n_estimators': 160, 'random_state': 0}\n",
      "Cluster 2 - Best MSE: -0.22422126930418, Best Parameters: {'criterion': 'friedman_mse', 'max_depth': 32, 'max_features': 'sqrt', 'n_estimators': 160, 'random_state': 0}\n",
      "Cluster 3 - Best MSE: -0.2353861919699745, Best Parameters: {'criterion': 'friedman_mse', 'max_depth': 32, 'max_features': 'sqrt', 'n_estimators': 160, 'random_state': 0}\n",
      "Cluster 4 - Best MSE: -0.27211600919023116, Best Parameters: {'criterion': 'friedman_mse', 'max_depth': 32, 'max_features': 'sqrt', 'n_estimators': 160, 'random_state': 0}\n"
     ]
    }
   ],
   "source": [
    "from sklearn.model_selection import GridSearchCV\n",
    "from sklearn.ensemble import RandomForestRegressor\n",
    "\n",
    "# Define the grid of hyperparameters\n",
    "grid = {\n",
    "    'n_estimators': [80, 100, 120, 140, 160],\n",
    "    'max_features': ['sqrt'],\n",
    "    'max_depth': [24, 26, 28, 30, 32],\n",
    "    'criterion': ['friedman_mse'],\n",
    "    'random_state': [0]\n",
    "}\n",
    "\n",
    "# Initialize an empty dictionary to store the best hyperparameters and scores for each cluster\n",
    "best_params_per_cluster = {}\n",
    "best_scores_per_cluster = {}\n",
    "\n",
    "# Iterate over each cluster\n",
    "for cluster in range(n_clusters):\n",
    "    cluster_data = df[df['cluster'] == cluster]\n",
    "    X_cluster = cluster_data.drop(['user.review', 'cluster'], axis=1)\n",
    "    y_cluster = cluster_data['user.review']\n",
    "    \n",
    "    # Split the data into training and testing sets\n",
    "    X_train_c, X_test_c, y_train_c, y_test_c = train_test_split(X_cluster, y_cluster, test_size=0.2, random_state=42)\n",
    "    \n",
    "    # Define the preprocessing pipeline\n",
    "    pipeline = Pipeline([\n",
    "        ('preprocessor', preprocessor)\n",
    "    ])\n",
    "    \n",
    "    # Apply preprocessing to the training data\n",
    "    X_train_c_processed = pipeline.fit_transform(X_train_c)\n",
    "    \n",
    "    # Initialize GridSearchCV for the current cluster\n",
    "    gs = GridSearchCV(estimator=RandomForestRegressor(), param_grid=grid, scoring='neg_mean_squared_error', cv=10, n_jobs=-1)\n",
    "    \n",
    "    # Fit GridSearchCV to find the best hyperparameters for the current cluster\n",
    "    gs.fit(X_train_c_processed, y_train_c)\n",
    "    \n",
    "    # Store the best hyperparameters and scores for the current cluster\n",
    "    best_params_per_cluster[cluster] = gs.best_params_\n",
    "    best_scores_per_cluster[cluster] = gs.best_score_\n",
    "\n",
    "    print(f'Cluster {cluster} - Best MSE: {gs.best_score_}, Best Parameters: {gs.best_params_}')\n",
    "\n",
    "# Print the best hyperparameters and scores for each cluster\n",
    "for cluster, params in best_params_per_cluster.items():\n",
    "    print(f'Cluster {cluster} - Best MSE: {best_scores_per_cluster[cluster]}, Best Parameters: {params}')\n"
   ]
  }
 ],
 "metadata": {
  "kernelspec": {
   "display_name": "venv",
   "language": "python",
   "name": "python3"
  },
  "language_info": {
   "codemirror_mode": {
    "name": "ipython",
    "version": 3
   },
   "file_extension": ".py",
   "mimetype": "text/x-python",
   "name": "python",
   "nbconvert_exporter": "python",
   "pygments_lexer": "ipython3",
   "version": "3.11.5"
  }
 },
 "nbformat": 4,
 "nbformat_minor": 2
}
